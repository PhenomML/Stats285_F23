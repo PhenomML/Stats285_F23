{
  "nbformat": 4,
  "nbformat_minor": 0,
  "metadata": {
    "colab": {
      "provenance": [],
      "include_colab_link": true
    },
    "kernelspec": {
      "name": "python3",
      "display_name": "Python 3"
    },
    "language_info": {
      "name": "python"
    }
  },
  "cells": [
    {
      "cell_type": "markdown",
      "metadata": {
        "id": "view-in-github",
        "colab_type": "text"
      },
      "source": [
        "<a href=\"https://colab.research.google.com/github/adonoho/Stats285_hw3/blob/hw4-awd-2/reading_gbq.ipynb\" target=\"_parent\"><img src=\"https://colab.research.google.com/assets/colab-badge.svg\" alt=\"Open In Colab\"/></a>"
      ]
    },
    {
      "cell_type": "code",
      "execution_count": null,
      "metadata": {
        "id": "XSqBv11AaDMY"
      },
      "outputs": [],
      "source": [
        "# load necessary functions\n",
        "\n",
        "from google.cloud import bigquery\n",
        "from google.colab import auth\n",
        "auth.authenticate_user()\n",
        "%load_ext google.colab.data_table"
      ]
    },
    {
      "cell_type": "code",
      "source": [
        "# project_id and table_name are strings\n",
        "# the following function loads the full dataset\n",
        "# using standard SQL selection commands, we can get parts of the dataset also\n",
        "\n",
        "def get_df_from_project(project_id, table_name):\n",
        "  client = bigquery.Client(project=project_id)\n",
        "  query = f\"SELECT * FROM `{table_name}`\"\n",
        "  df = client.query(query).to_dataframe()\n",
        "  return df"
      ],
      "metadata": {
        "id": "3zdDab5Var47"
      },
      "execution_count": null,
      "outputs": []
    }
  ]
}