{
 "nbformat": 4,
 "nbformat_minor": 0,
 "metadata": {
  "colab": {
   "provenance": [],
   "include_colab_link": true
  },
  "kernelspec": {
   "name": "python3",
   "display_name": "Python 3"
  },
  "language_info": {
   "name": "python"
  }
 },
 "cells": [
  {
   "cell_type": "markdown",
   "metadata": {
    "id": "view-in-github",
    "colab_type": "text"
   },
   "source": [
    "<a href=\"https://colab.research.google.com/github/adonoho/Stats285_F23/blob/hw5-add-svd/HW5_analysis.ipynb\" target=\"_parent\"><img src=\"https://colab.research.google.com/assets/colab-badge.svg\" alt=\"Open In Colab\"/></a>"
   ]
  },
  {
   "cell_type": "code",
   "execution_count": 1,
   "metadata": {
    "id": "XSqBv11AaDMY"
   },
   "outputs": [],
   "source": [
    "# load necessary functions\n",
    "\n",
    "from google.cloud import bigquery\n",
    "from google.colab import auth\n",
    "auth.authenticate_user()\n",
    "%load_ext google.colab.data_table\n",
    "\n",
    "from scipy.sparse.linalg import svds\n",
    "import numpy as np"
   ]
  },
  {
   "cell_type": "code",
   "source": [
    "# project_id and table_name are strings\n",
    "# the following function loads the full dataset\n",
    "# using standard SQL selection commands, we can get parts of the dataset also\n",
    "\n",
    "def get_df_from_project(project_id, table_name):\n",
    "  client = bigquery.Client(project=project_id)\n",
    "  query = f\"SELECT * FROM `{table_name}`\"\n",
    "  df = client.query(query).to_dataframe()\n",
    "  return df"
   ],
   "metadata": {
    "id": "3zdDab5Var47"
   },
   "execution_count": 2,
   "outputs": []
  },
  {
   "cell_type": "markdown",
   "source": [
    "**In the below, change `su\\_ID` to your SUID.**"
   ],
   "metadata": {
    "collapsed": false
   }
  },
  {
   "cell_type": "code",
   "source": [
    "# Get the dataframe you generated in 'hw_5_large.sh' and load it as a pandas dataframe\n",
    "df = get_df_from_project('stanford-stats-285-donoho', 'HW5.su_ID_hw5')"
   ],
   "metadata": {
    "id": "nm0wa_E30K2i"
   },
   "execution_count": 3,
   "outputs": []
  },
  {
   "cell_type": "code",
   "source": [
    "# Filter df to only keep elements of the vectors you generated\n",
    "df_vectors = df[[col for col in df.columns if 've' in col]]\n",
    "df_vectors = df_vectors.to_numpy() # convert to numpy"
   ],
   "metadata": {
    "id": "qD6I6N141hc3"
   },
   "execution_count": 4,
   "outputs": []
  },
  {
   "cell_type": "code",
   "source": [
    "# Compute the top-singular vector of the matrix of vectors\n",
    "# vt what we are interested in\n",
    "u, s, vt = svds(df_vectors, k=1)"
   ],
   "metadata": {
    "id": "JPhczKGkG83x"
   },
   "execution_count": 5,
   "outputs": []
  },
  {
   "cell_type": "code",
   "source": [
    "# Compare vt to v_true\n",
    "ncol = vt.shape[1]\n",
    "v_true = np.array([[(-1)**(i+1)/np.sqrt(ncol) for i in range(ncol)]]) # Same as generate_data() in main.py\n",
    "\n",
    "# Calculate error\n",
    "error = np.linalg.norm(vt - v_true)\n",
    "print('||v_true - v_approx|| = '+str(error))"
   ],
   "metadata": {
    "id": "kvavl_n4Jfky",
    "outputId": "cf8cdb3a-c90c-4abe-bf26-7d9cdda660ab",
    "colab": {
     "base_uri": "https://localhost:8080/"
    }
   },
   "execution_count": 7,
   "outputs": [
    {
     "output_type": "stream",
     "name": "stdout",
     "text": [
      "||v_true - v_approx|| = 0.00033132905235538874\n"
     ]
    }
   ]
  }
 ]
}
